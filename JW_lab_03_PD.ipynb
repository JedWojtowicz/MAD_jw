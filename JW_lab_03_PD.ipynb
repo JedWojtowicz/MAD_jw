{
  "cells": [
    {
      "cell_type": "markdown",
      "metadata": {
        "id": "view-in-github",
        "colab_type": "text"
      },
      "source": [
        "<a href=\"https://colab.research.google.com/github/JedWojtowicz/MAD_jw/blob/main/JW_lab_03_PD.ipynb\" target=\"_parent\"><img src=\"https://colab.research.google.com/assets/colab-badge.svg\" alt=\"Open In Colab\"/></a>"
      ]
    },
    {
      "cell_type": "code",
      "execution_count": 69,
      "id": "9b4b0588-da6b-4c7d-a888-fb89ffddc4ac",
      "metadata": {
        "id": "9b4b0588-da6b-4c7d-a888-fb89ffddc4ac"
      },
      "outputs": [],
      "source": [
        "import numpy as np\n",
        "from timeit import timeit"
      ]
    },
    {
      "cell_type": "code",
      "execution_count": 70,
      "id": "33c0bbd5-1b83-4328-a32d-bbf834263d59",
      "metadata": {
        "id": "33c0bbd5-1b83-4328-a32d-bbf834263d59"
      },
      "outputs": [],
      "source": [
        "rng = np.random.default_rng()"
      ]
    },
    {
      "cell_type": "code",
      "source": [
        "#1.Stwórz tablicę o nazwie a_small_one o wymiarach 8x8 z wartościami od 1 do 64.\n",
        "a_small_one = np.arange(1, 65).reshape(8, 8)\n",
        "a_small_one"
      ],
      "metadata": {
        "colab": {
          "base_uri": "https://localhost:8080/"
        },
        "id": "5hVfsiyAF2-p",
        "outputId": "1ae47d13-3b5e-45a5-f8ba-bc98d130cf36"
      },
      "id": "5hVfsiyAF2-p",
      "execution_count": 71,
      "outputs": [
        {
          "output_type": "execute_result",
          "data": {
            "text/plain": [
              "array([[ 1,  2,  3,  4,  5,  6,  7,  8],\n",
              "       [ 9, 10, 11, 12, 13, 14, 15, 16],\n",
              "       [17, 18, 19, 20, 21, 22, 23, 24],\n",
              "       [25, 26, 27, 28, 29, 30, 31, 32],\n",
              "       [33, 34, 35, 36, 37, 38, 39, 40],\n",
              "       [41, 42, 43, 44, 45, 46, 47, 48],\n",
              "       [49, 50, 51, 52, 53, 54, 55, 56],\n",
              "       [57, 58, 59, 60, 61, 62, 63, 64]])"
            ]
          },
          "metadata": {},
          "execution_count": 71
        }
      ]
    },
    {
      "cell_type": "code",
      "source": [
        "#2.Dla tablicy a_small_one policz:\n",
        "#sumę dla każdej kolumny,\n",
        "print(\"Suma dla kadej kolumny to:\",a_small_one.sum(axis=0))\n",
        "#sumę skumulowaną dla każdego wiersza,\n",
        "print(\"Suma skumoulowana dla kadego wiersza to:\",a_small_one.cumsum(axis=1))\n",
        "#wartość średnią dla każdego wiersza\n",
        "print(\"Wartoc srednia dla kazdego wiersza to:\",a_small_one.mean(axis=0))"
      ],
      "metadata": {
        "colab": {
          "base_uri": "https://localhost:8080/"
        },
        "id": "nhId_MLrF6g6",
        "outputId": "385290be-9311-4958-efd0-c5c6cc536513"
      },
      "id": "nhId_MLrF6g6",
      "execution_count": 72,
      "outputs": [
        {
          "output_type": "stream",
          "name": "stdout",
          "text": [
            "Suma dla kadej kolumny to: [232 240 248 256 264 272 280 288]\n",
            "Suma skumoulowana dla kadego wiersza to: [[  1   3   6  10  15  21  28  36]\n",
            " [  9  19  30  42  55  69  84 100]\n",
            " [ 17  35  54  74  95 117 140 164]\n",
            " [ 25  51  78 106 135 165 196 228]\n",
            " [ 33  67 102 138 175 213 252 292]\n",
            " [ 41  83 126 170 215 261 308 356]\n",
            " [ 49  99 150 202 255 309 364 420]\n",
            " [ 57 115 174 234 295 357 420 484]]\n",
            "Wartoc srednia dla kazdego wiersza to: [29. 30. 31. 32. 33. 34. 35. 36.]\n"
          ]
        }
      ]
    },
    {
      "cell_type": "code",
      "source": [
        "#3.Zwróć podtablicę z tablicy a_small_one z elementami parzystymi (nie nadpisuj tej zmiennej).\n",
        "arr_even = a_small_one.copy()\n",
        "arr_even = arr_even[arr_even % 2 == 0]\n",
        "arr_even"
      ],
      "metadata": {
        "colab": {
          "base_uri": "https://localhost:8080/"
        },
        "id": "D1qYJgQLF7PI",
        "outputId": "c0899c2b-a6c7-473c-d076-7002dc187667"
      },
      "id": "D1qYJgQLF7PI",
      "execution_count": 73,
      "outputs": [
        {
          "output_type": "execute_result",
          "data": {
            "text/plain": [
              "array([ 2,  4,  6,  8, 10, 12, 14, 16, 18, 20, 22, 24, 26, 28, 30, 32, 34,\n",
              "       36, 38, 40, 42, 44, 46, 48, 50, 52, 54, 56, 58, 60, 62, 64])"
            ]
          },
          "metadata": {},
          "execution_count": 73
        }
      ]
    },
    {
      "cell_type": "code",
      "source": [
        "#4.Zapisz do zmiennej o nazwie no_even_small_one tablicę a_small_one zamieniając wartości parzyste na wartość np.nan.\n",
        "no_even_small_one = a_small_one.copy().astype(np.float64)\n",
        "no_even_small_one[no_even_small_one % 2 == 0] = np.nan\n",
        "no_even_small_one"
      ],
      "metadata": {
        "colab": {
          "base_uri": "https://localhost:8080/"
        },
        "id": "lqlCI_X0F7fo",
        "outputId": "1b5ee0ef-d374-4a21-e95f-058f9206a062"
      },
      "id": "lqlCI_X0F7fo",
      "execution_count": 74,
      "outputs": [
        {
          "output_type": "execute_result",
          "data": {
            "text/plain": [
              "array([[ 1., nan,  3., nan,  5., nan,  7., nan],\n",
              "       [ 9., nan, 11., nan, 13., nan, 15., nan],\n",
              "       [17., nan, 19., nan, 21., nan, 23., nan],\n",
              "       [25., nan, 27., nan, 29., nan, 31., nan],\n",
              "       [33., nan, 35., nan, 37., nan, 39., nan],\n",
              "       [41., nan, 43., nan, 45., nan, 47., nan],\n",
              "       [49., nan, 51., nan, 53., nan, 55., nan],\n",
              "       [57., nan, 59., nan, 61., nan, 63., nan]])"
            ]
          },
          "metadata": {},
          "execution_count": 74
        }
      ]
    },
    {
      "cell_type": "code",
      "source": [
        "#5.Dla tablicy no_even_small_one policz funkcjami uwzględniającymi wartości nan (zazwyczaj posiadają przedrostek nan):\n",
        "#sumę dla każdego wiersza,\n",
        "print(\"Suma dla kazdego wiersza:\",np.nansum(no_even_small_one,axis=1))\n",
        "#średnią dla każdej kolumny,\n",
        "print(\"Srednia dla kazdej kolumny:\",np.nanmean(no_even_small_one,axis=0))\n",
        "#wartość najmniejszą w całej tablicy\n",
        "print(\"Najmniejsza wartosc w calej tablicy:\",np.nanmin(no_even_small_one))"
      ],
      "metadata": {
        "colab": {
          "base_uri": "https://localhost:8080/"
        },
        "id": "i80ZDZlQF7xq",
        "outputId": "1a5afad8-87dc-4171-d702-c511bf63de4a"
      },
      "id": "i80ZDZlQF7xq",
      "execution_count": 75,
      "outputs": [
        {
          "output_type": "stream",
          "name": "stdout",
          "text": [
            "Suma dla kazdego wiersza: [ 16.  48.  80. 112. 144. 176. 208. 240.]\n",
            "Srednia dla kazdej kolumny: [29. nan 31. nan 33. nan 35. nan]\n",
            "Najmniejsza wartosc w calej tablicy: 1.0\n"
          ]
        },
        {
          "output_type": "stream",
          "name": "stderr",
          "text": [
            "<ipython-input-75-6127b325b918>:5: RuntimeWarning: Mean of empty slice\n",
            "  print(\"Srednia dla kazdej kolumny:\",np.nanmean(no_even_small_one,axis=0))\n"
          ]
        }
      ]
    },
    {
      "cell_type": "code",
      "source": [
        "#6.Do tablicy no_even_small_one wstaw za pomocą funkcji np.where:\n",
        "\n",
        "#wartości 1 dla każdej wartości np.nan (zobacz wbudowaną funkcję np.isnan())\n",
        "no_even_small_one[np.isnan(no_even_small_one)] = 1\n",
        "#print(no_even_small_one)\n",
        "\n",
        "'''liczby parzyste, które wcześniej zastąpiliśmy wartościami nan (teraz 1 jeżeli\n",
        "wykonany jest podpunkt pierwszy), więc przywracamy ten tablicy wygląd\n",
        "oryginalny z tablicy a_small_one - dla warunku wstawiaj wartość z a_small_one\n",
        "lub no_even_small_one'''\n",
        "\n",
        "np.where(no_even_small_one == 1, a_small_one, no_even_small_one)"
      ],
      "metadata": {
        "colab": {
          "base_uri": "https://localhost:8080/"
        },
        "id": "cwWMin52F8xI",
        "outputId": "6c648195-9086-48c9-e9cb-5aa204b86ce3"
      },
      "id": "cwWMin52F8xI",
      "execution_count": 76,
      "outputs": [
        {
          "output_type": "execute_result",
          "data": {
            "text/plain": [
              "array([[ 1.,  2.,  3.,  4.,  5.,  6.,  7.,  8.],\n",
              "       [ 9., 10., 11., 12., 13., 14., 15., 16.],\n",
              "       [17., 18., 19., 20., 21., 22., 23., 24.],\n",
              "       [25., 26., 27., 28., 29., 30., 31., 32.],\n",
              "       [33., 34., 35., 36., 37., 38., 39., 40.],\n",
              "       [41., 42., 43., 44., 45., 46., 47., 48.],\n",
              "       [49., 50., 51., 52., 53., 54., 55., 56.],\n",
              "       [57., 58., 59., 60., 61., 62., 63., 64.]])"
            ]
          },
          "metadata": {},
          "execution_count": 76
        }
      ]
    },
    {
      "cell_type": "code",
      "source": [
        "#7.Stwórz tablicę o nazwie sto_by_sto o wymiarach 100x100 próbkując wartości z rozkładu normalnego standardowego.\n",
        "sto_by_sto = rng.normal(size=(100,100))\n",
        "sto_by_sto"
      ],
      "metadata": {
        "colab": {
          "base_uri": "https://localhost:8080/"
        },
        "id": "Ad8duRsGF9MX",
        "outputId": "bdafba4c-1dad-4ba0-86cd-55e9b91f9508"
      },
      "id": "Ad8duRsGF9MX",
      "execution_count": 77,
      "outputs": [
        {
          "output_type": "execute_result",
          "data": {
            "text/plain": [
              "array([[ 1.48686082,  1.40075966, -0.19710105, ...,  0.16369403,\n",
              "        -0.83566964, -1.56761522],\n",
              "       [-0.60154601, -1.03493726, -0.18457707, ...,  0.49395352,\n",
              "         0.37192963,  0.94738168],\n",
              "       [-0.19625172, -0.70725171, -0.16671888, ..., -1.1380991 ,\n",
              "        -0.1778147 , -0.53885566],\n",
              "       ...,\n",
              "       [ 0.22324587, -0.22235276,  2.32793521, ..., -0.40466433,\n",
              "        -0.57901136,  0.38973305],\n",
              "       [-0.75410144, -0.06149828,  0.30424583, ...,  0.53085025,\n",
              "        -1.04044073, -0.42950623],\n",
              "       [-0.02025435,  0.63596953,  1.13573674, ...,  0.76797825,\n",
              "         2.02117967,  0.60165517]])"
            ]
          },
          "metadata": {},
          "execution_count": 77
        }
      ]
    },
    {
      "cell_type": "code",
      "source": [
        "#8.Dla tablicy sto_by_sto policz:\n",
        "#wartość średnią w każdym wierszu i kolumnie (oddzielnie),\n",
        "print(\"Wartosć średnia w każdym wierszu:\", np.mean(sto_by_sto, axis=1))\n",
        "print(\"Wartość średnia w każdej kolumnie:\", np.mean(sto_by_sto, axis=0))\n",
        "'''\n",
        "policz średnią różnicę bezwzględną dla wartości w powyższym punkcie względem\n",
        "wartości 0 (oddzielnie dla średniej z kolumn i średniej z wierszy, pamiętam o\n",
        "tym, że operacje na tablicy numpy wykonywane są w trybie broadcast)\n",
        "'''\n",
        "print(abs(np.mean(np.mean(sto_by_sto, axis=1))))\n",
        "print(abs(np.mean(np.mean(sto_by_sto, axis=0))))"
      ],
      "metadata": {
        "colab": {
          "base_uri": "https://localhost:8080/"
        },
        "id": "HV6I5svRF944",
        "outputId": "dbad667b-0dd3-4756-9dc7-998466c87c49"
      },
      "id": "HV6I5svRF944",
      "execution_count": 78,
      "outputs": [
        {
          "output_type": "stream",
          "name": "stdout",
          "text": [
            "Wartosć średnia w każdym wierszu: [-0.1276968  -0.08181242 -0.00346127 -0.03551962 -0.03615045 -0.01393391\n",
            "  0.06659385 -0.06753464 -0.05953458  0.08301949 -0.11725502  0.04395904\n",
            "  0.1619065  -0.01635099  0.13587942  0.15175193  0.13713885  0.08048897\n",
            " -0.03382062  0.00563308 -0.06774663 -0.07745212  0.10362274  0.07428371\n",
            "  0.07081183  0.0444748  -0.00267332  0.03595884  0.04026981  0.11281567\n",
            " -0.08364346  0.03349128  0.05262562 -0.05147759  0.12194659 -0.04351233\n",
            "  0.01716245  0.19167248  0.04379003  0.2196834   0.12572693  0.0236418\n",
            " -0.0860264   0.00827398 -0.07536266  0.0465486   0.19202696  0.04394825\n",
            "  0.07568688 -0.08663713 -0.01013862  0.01069979  0.08757984  0.19649617\n",
            "  0.00388469  0.11911693  0.11726866  0.10816004  0.08387001  0.13424473\n",
            "  0.05997856  0.13474441  0.02254062 -0.0541961  -0.13763855  0.08345157\n",
            "  0.02192455 -0.004053   -0.11322737  0.03526745 -0.05277948  0.02547861\n",
            " -0.01894113  0.00302694  0.05065613  0.00438166  0.02995469 -0.1385362\n",
            "  0.01520092  0.01331228  0.03264622  0.00023666  0.01438505  0.16536332\n",
            " -0.08940163  0.04695595 -0.05403864  0.02608242  0.14293176  0.08080061\n",
            " -0.05101142 -0.11372197 -0.07961314  0.00241267  0.01440428  0.01532274\n",
            "  0.08425473  0.08649654 -0.01829515  0.08293797]\n",
            "Wartość średnia w każdej kolumnie: [-0.08142514  0.12402648  0.07859931 -0.05114351 -0.12418889 -0.20797679\n",
            "  0.0060134   0.11519768 -0.05835259 -0.06937395 -0.03256943 -0.16876731\n",
            "  0.02926173  0.05158244 -0.01714556  0.19713157  0.07445925 -0.03647848\n",
            "  0.00325585 -0.05329866  0.27355658  0.00179168  0.04529074  0.06632999\n",
            "  0.07542067 -0.04868303  0.00114362  0.02982527 -0.12594235  0.13776555\n",
            "  0.1119751  -0.06584494  0.01744325 -0.02624381  0.14582343  0.09347584\n",
            "  0.00826257  0.02791733 -0.04537479  0.21876213 -0.02891677  0.04033845\n",
            " -0.06905054  0.02764364  0.2505379   0.04847359  0.04352715 -0.15021622\n",
            "  0.14632011 -0.06192915  0.0467755   0.00873755  0.06453166 -0.09862538\n",
            "  0.09456254  0.06028193  0.10958462 -0.04719151  0.03854907 -0.02840893\n",
            " -0.07080228 -0.0702862   0.02451037 -0.07032664  0.08647974  0.11577568\n",
            " -0.09147597  0.05808522  0.11418951 -0.04713902  0.04360975  0.08801469\n",
            "  0.13217571  0.02526264  0.12237735  0.18330588 -0.02837445  0.15917366\n",
            " -0.01774868  0.01933174  0.12339505 -0.00542101  0.00129179  0.14251292\n",
            " -0.00178568 -0.07545716  0.14181914 -0.15343978  0.15233872 -0.05889684\n",
            "  0.18677851  0.09286906  0.10922643 -0.06664096  0.0544423   0.05132645\n",
            " -0.09061316 -0.03115049  0.03501499 -0.00266684]\n",
            "0.02598109596879226\n",
            "0.025981095968792247\n"
          ]
        }
      ]
    },
    {
      "cell_type": "code",
      "source": [
        "#9.Stwórz tablicę o wymiarach 1000x1000 uzupełniając ją wartościami losowymi z\n",
        "#rozkładu normalnego standardowego, a następnie posiłkując się przykładami z\n",
        "#labów poprzednich (moduł timeit) porównaj czasy wykonania dla tej tablicy:\n",
        "tab1 = rng.normal(size=(1000,1000))\n",
        "#zapisu do pliku tekstowego vs. zapis do pliku w formacie picle vs. zapis do\n",
        "#pliku skompresowanego (funkcja savez_compressed w dokumentacji biblioteki numpy)\n",
        "setup = \"\"\"\n",
        "import numpy as np\n",
        "rng = np.random.default_rng()\n",
        "tab1 = rng.normal(size=(1000,1000))\n",
        "\"\"\"\n",
        "stmt_1=\"\"\"\n",
        "np.savetxt('tab1.txt', tab1)\n",
        "\"\"\"\n",
        "stmt_2=\"\"\"\n",
        "np.save('tab1_pickle', tab1)\n",
        "\"\"\"\n",
        "stmt_3=\"\"\"\n",
        "np.savez_compressed('tab1.npz', tab1)\n",
        "\"\"\"\n",
        "timeit(stmt_1,setup=setup, number=10),timeit(stmt_2,setup=setup, number=10),timeit(stmt_3,setup=setup, number=10)"
      ],
      "metadata": {
        "colab": {
          "base_uri": "https://localhost:8080/"
        },
        "id": "WsYJ5XnhF-F4",
        "outputId": "cee24cdf-3e0f-4614-941c-c2dfa93ce02c"
      },
      "id": "WsYJ5XnhF-F4",
      "execution_count": 79,
      "outputs": [
        {
          "output_type": "execute_result",
          "data": {
            "text/plain": [
              "(10.446427216000302, 0.15182007800012798, 5.367167483999765)"
            ]
          },
          "metadata": {},
          "execution_count": 79
        }
      ]
    },
    {
      "cell_type": "code",
      "source": [
        "#odczytu dla trzech wyżej wymienionych plików.\n",
        "stmt_1_2=\"\"\"\n",
        "tab_from_file = np.loadtxt('tab1.txt')\n",
        "\"\"\"\n",
        "stmt_2_2=\"\"\"\n",
        "tab_from_file = np.load('tab1_pickle.npy')\n",
        "\"\"\"\n",
        "stmt_3_2=\"\"\"\n",
        "tab_from_file = np.load('tab1.npz')\n",
        "\"\"\"\n",
        "timeit(stmt_1_2,setup=setup, number=10),timeit(stmt_2_2,setup=setup, number=10),timeit(stmt_3_2,setup=setup, number=10)"
      ],
      "metadata": {
        "id": "p3kgRpddSNAz",
        "colab": {
          "base_uri": "https://localhost:8080/"
        },
        "outputId": "7ef372f6-00f4-425f-eeda-93c0241ef7e3"
      },
      "id": "p3kgRpddSNAz",
      "execution_count": 80,
      "outputs": [
        {
          "output_type": "execute_result",
          "data": {
            "text/plain": [
              "(5.369558471000346, 0.02821663999930024, 0.001008942000225943)"
            ]
          },
          "metadata": {},
          "execution_count": 80
        }
      ]
    }
  ],
  "metadata": {
    "kernelspec": {
      "display_name": "Python 3 (ipykernel)",
      "language": "python",
      "name": "python3"
    },
    "language_info": {
      "codemirror_mode": {
        "name": "ipython",
        "version": 3
      },
      "file_extension": ".py",
      "mimetype": "text/x-python",
      "name": "python",
      "nbconvert_exporter": "python",
      "pygments_lexer": "ipython3",
      "version": "3.13.2"
    },
    "colab": {
      "provenance": [],
      "include_colab_link": true
    }
  },
  "nbformat": 4,
  "nbformat_minor": 5
}