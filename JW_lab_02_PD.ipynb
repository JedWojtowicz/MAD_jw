{
  "cells": [
    {
      "cell_type": "code",
      "source": [
        "import numpy as np"
      ],
      "metadata": {
        "id": "VNjF_1L9YEdL"
      },
      "id": "VNjF_1L9YEdL",
      "execution_count": 1,
      "outputs": []
    },
    {
      "cell_type": "code",
      "source": [
        "# funkcje zaczerpnięte z https://tobiasraabe.github.io/post/numpy-views-vs-copies/\n",
        "# dzięki nim łatwiej będzie nam interpretować czy dwie tablice numpy posiadają wspólną bazę\n",
        "# co oznacza, że współdzielą pamięć (lub nie)\n",
        "\n",
        "def get_data_base(x):\n",
        "    base = x\n",
        "    while isinstance(base.base, np.ndarray):\n",
        "        base = base.base\n",
        "    return base\n",
        "\n",
        "def arrays_share_data(x, y):\n",
        "    return get_data_base(x) is get_data_base(y)"
      ],
      "metadata": {
        "id": "yFzlLQ1xZeCb"
      },
      "id": "yFzlLQ1xZeCb",
      "execution_count": 4,
      "outputs": []
    },
    {
      "cell_type": "code",
      "source": [
        "#Zadanie 1\n",
        "#Stwórz tablicę numpy o wymiarach (4,4) wypełnioną wartościami od 2 do 32\n",
        "#z krokiem 2 i przypisz ją do zmiennej. Wyświetl jej typ danch, liczbę\n",
        "#elementów, wielkość pojedynczego elementu oraz ilość zaalokowanej pamięci.\n",
        "A = np.arange(2,34,2)\n",
        "A = A.reshape(4,4)\n",
        "print(A)\n",
        "A.dtype, A.size, A.itemsize, A.nbytes"
      ],
      "metadata": {
        "colab": {
          "base_uri": "https://localhost:8080/"
        },
        "id": "kQgkl1MQPnMz",
        "outputId": "b3cdeb43-fe21-48d6-94c0-e832241d84f5"
      },
      "id": "kQgkl1MQPnMz",
      "execution_count": 5,
      "outputs": [
        {
          "output_type": "stream",
          "name": "stdout",
          "text": [
            "[[ 2  4  6  8]\n",
            " [10 12 14 16]\n",
            " [18 20 22 24]\n",
            " [26 28 30 32]]\n"
          ]
        },
        {
          "output_type": "execute_result",
          "data": {
            "text/plain": [
              "(dtype('int64'), 16, 8, 128)"
            ]
          },
          "metadata": {},
          "execution_count": 5
        }
      ]
    },
    {
      "cell_type": "code",
      "source": [
        "#Zadanie 2\n",
        "#Wróć tablicę z zadania 1 jako widok. Zmień jej typ danych (możesz to zrobić\n",
        "# np. funkcją astype()) na np.uint8. Sprawdź teraz czy tablica jest widokiem\n",
        "#czy kopią tablicy oryginalnej. Wyświetl jej liczbę elementów, wielkość\n",
        "#pojedynczego elementu oraz ilość zaalokowanej pamięci.\n",
        "B = A.view()\n",
        "B = B.astype(np.uint8)\n",
        "arrays_share_data(A, B)\n",
        "print(B)\n",
        "B.flags.owndata, B.size, B.itemsize, B.nbytes"
      ],
      "metadata": {
        "id": "ENa3UEYWPtc2",
        "colab": {
          "base_uri": "https://localhost:8080/"
        },
        "outputId": "1cb6c1a8-cc56-4a13-e3cb-83a8f2d0c2a5"
      },
      "id": "ENa3UEYWPtc2",
      "execution_count": 6,
      "outputs": [
        {
          "output_type": "stream",
          "name": "stdout",
          "text": [
            "[[ 2  4  6  8]\n",
            " [10 12 14 16]\n",
            " [18 20 22 24]\n",
            " [26 28 30 32]]\n"
          ]
        },
        {
          "output_type": "execute_result",
          "data": {
            "text/plain": [
              "(True, 16, 1, 16)"
            ]
          },
          "metadata": {},
          "execution_count": 6
        }
      ]
    },
    {
      "cell_type": "code",
      "source": [
        "#Zadanie 3\n",
        "#Wytnij z tablicy z zadania 1 obszar 2 x 2 \"ze środka\" tablicy (wartości 12,14, 20,22) na dwa sposoby:\n",
        "#jeden jako widok i przypisz do zmiennej\n",
        "C_1 = A[1:3, 1:3]\n",
        "print(C_1)\n",
        "arrays_share_data(A, C_1)"
      ],
      "metadata": {
        "id": "3uf-bCHmPuIe",
        "colab": {
          "base_uri": "https://localhost:8080/"
        },
        "outputId": "75fc4947-a8fa-4466-a86f-6f2779f6efe8"
      },
      "id": "3uf-bCHmPuIe",
      "execution_count": 15,
      "outputs": [
        {
          "output_type": "stream",
          "name": "stdout",
          "text": [
            "[[12 14]\n",
            " [20 22]]\n"
          ]
        },
        {
          "output_type": "execute_result",
          "data": {
            "text/plain": [
              "True"
            ]
          },
          "metadata": {},
          "execution_count": 15
        }
      ]
    },
    {
      "cell_type": "code",
      "source": [
        "#drugi jako kopia i przypisz do zmiennej\n",
        "C_2 = A[1:3, 1:3].copy()\n",
        "print(C_2)\n",
        "arrays_share_data(A, C_2)"
      ],
      "metadata": {
        "colab": {
          "base_uri": "https://localhost:8080/"
        },
        "id": "NApkm1ZdSjwO",
        "outputId": "6dc456d2-e1ff-430e-95dd-23b9ebde4f69"
      },
      "id": "NApkm1ZdSjwO",
      "execution_count": 16,
      "outputs": [
        {
          "output_type": "stream",
          "name": "stdout",
          "text": [
            "[[12 14]\n",
            " [20 22]]\n"
          ]
        },
        {
          "output_type": "execute_result",
          "data": {
            "text/plain": [
              "False"
            ]
          },
          "metadata": {},
          "execution_count": 16
        }
      ]
    },
    {
      "cell_type": "code",
      "source": [
        "#Zadanie 4\n",
        "#Stwórz tablicę 4x4, która zawiera wartości 1,2,3,4 w każdym wierszu.\n",
        "#Następnie wykorzystując funkcje łączenia tablic utwórz tablicę połączoną z\n",
        "#powyższej tablicy i jej wersji lustrzanej w poziomie (spróbuj użyć wycinków).\n",
        "D = np.arange(1, 5)\n",
        "D = np.tile(D, (4, 1))\n",
        "print(D)\n",
        "D_mirror = D[:, ::-1]\n",
        "print(D_mirror)\n",
        "D_joined = np.hstack((D, D_mirror))\n",
        "print(D_joined)"
      ],
      "metadata": {
        "id": "MeCbOwEDPuqm",
        "colab": {
          "base_uri": "https://localhost:8080/"
        },
        "outputId": "b5cfeef5-f4c3-4afc-a1dd-5c948639236d"
      },
      "id": "MeCbOwEDPuqm",
      "execution_count": 18,
      "outputs": [
        {
          "output_type": "stream",
          "name": "stdout",
          "text": [
            "[[1 2 3 4]\n",
            " [1 2 3 4]\n",
            " [1 2 3 4]\n",
            " [1 2 3 4]]\n",
            "[[4 3 2 1]\n",
            " [4 3 2 1]\n",
            " [4 3 2 1]\n",
            " [4 3 2 1]]\n",
            "[[1 2 3 4 4 3 2 1]\n",
            " [1 2 3 4 4 3 2 1]\n",
            " [1 2 3 4 4 3 2 1]\n",
            " [1 2 3 4 4 3 2 1]]\n"
          ]
        }
      ]
    },
    {
      "cell_type": "code",
      "source": [
        "#Zadanie 5\n",
        "#Utwórz tablicę o nazwie Z_5 o wymiarach 2x2 wypełnioną wartościami 1.\n",
        "E = np.ones((2,2))\n",
        "#Wykorzystując funkcje łączenia tabel uwtórz tablicę, która finalnie będzie\n",
        "#tablicą składającą się z 4-ech tablic Z_5, ale tak aby finalnie była to tablica\n",
        "#4 x 4 podobna do poniższej:\n",
        "#1,1,2,2\n",
        "#1,1,2,2\n",
        "#3,3,4,4\n",
        "#3,3,4,4\n",
        "E_joined = np.vstack((np.hstack((E, E*2)), np.hstack((E*3, E*4))))\n",
        "print(E_joined)"
      ],
      "metadata": {
        "id": "iQsOXfxePvB2",
        "colab": {
          "base_uri": "https://localhost:8080/"
        },
        "outputId": "d6c67249-7d5b-4c83-a087-2a15ad1a2dd7"
      },
      "id": "iQsOXfxePvB2",
      "execution_count": 21,
      "outputs": [
        {
          "output_type": "stream",
          "name": "stdout",
          "text": [
            "[[1. 1. 2. 2.]\n",
            " [1. 1. 2. 2.]\n",
            " [3. 3. 4. 4.]\n",
            " [3. 3. 4. 4.]]\n"
          ]
        }
      ]
    }
  ],
  "metadata": {
    "kernelspec": {
      "display_name": "Python 3 (ipykernel)",
      "language": "python",
      "name": "python3"
    },
    "language_info": {
      "codemirror_mode": {
        "name": "ipython",
        "version": 3
      },
      "file_extension": ".py",
      "mimetype": "text/x-python",
      "name": "python",
      "nbconvert_exporter": "python",
      "pygments_lexer": "ipython3",
      "version": "3.13.2"
    },
    "colab": {
      "provenance": []
    }
  },
  "nbformat": 4,
  "nbformat_minor": 5
}